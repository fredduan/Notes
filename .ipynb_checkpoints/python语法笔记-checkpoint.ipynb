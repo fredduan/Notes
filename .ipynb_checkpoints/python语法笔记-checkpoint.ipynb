{
 "cells": [
  {
   "cell_type": "markdown",
   "metadata": {},
   "source": [
    "### 名称前的单下划线\n",
    "``` python\n",
    "def _eat(self):\n",
    "```\n",
    "- 使用名称前的单下划线，用于指定该名称属性为“私有”，为了使其他人（或你自己）使用这些代码时将会知道以“_”开头的名称只供内部使用。正如Python文档中所述：\n",
    "\n",
    "- 划线“_”为前缀的名称（如_spam）应该被视为API中非公开的部分（不管是函数、方法还是数据成员）。此时，应该将它们看作是一种实现细节，在修改它们时无需对外部通知。\n",
    "\n",
    "- 你写了代码“from <模块/包名> import *”，那么以“_”开头的名称都不会被导入，除非模块或包中的“__all__”列表显式地包含了它们。了解更多请查看“Importing * in Python”。\n",
    "\n",
    "### 名称前的双下划线\n",
    "``` python\n",
    "    def __sigmoid(self, x):\n",
    "        return 1 / (1 + exp(-x))\n",
    "```\n",
    "- 在创建一个以\"__\"两个下划线开始的方法时，这意味着这个方法不能被子类重写，它只允许在该类的内部中使用。\n",
    "- 里的功能几乎和Java中的final方法和C++类中标准方法（非虚方法）一样。\n",
    "\n",
    "### 名称前后的双下划线\n",
    "- 用法表示Python中特殊的方法名。其实，这只是一种惯例，对Python系统来说，这将确保不会与用户自定义的名称冲突。通常，你将会覆写这些方法，并在里面实现你所需要的功能，以便Python调用它们。例如，当定义一个类时，你经常会覆写“__init__”方法。\n",
    "\n",
    "- 你也可以编写自己的特殊方法名，但不要这样做。\n",
    "\n",
    "- _xx__”经常是操作符或本地函数调用的magic methods。在上面的例子中，提供了一种重写类的操作符的功能。\n",
    "\n",
    "- 殊的情况下，它只是python调用的hook。例如，__init__()函数是当对象被创建初始化时调用的;__new__()是用来创建实例。"
   ]
  },
  {
   "cell_type": "markdown",
   "metadata": {},
   "source": [
    "### 下划线变量\n",
    "1. **在解释器中**：在这种情况下，\"_\"代表交互式解释器会话中上一条执行的语句的结果。这种用法首先被标准CPython解释器采用，然后其他类型的解释器也先后采用\n",
    "2. **作为一个名称**：这与上面一点稍微有些联系，此时\"_\"作为临时性的名称使用。这样，当其他人阅读你的代码时将会知道，你分配了一个特定的名称，但是并不会在后面再次用到该名称。例如，下面的例子中，你可能对循环计数中的实际值并不感兴趣，此时就可以使用\"_\"。\n",
    "``` python\n",
    "for _ in range(3):\n",
    "    do_something()\n",
    "```\n",
    "3. **国际化**：也许你也曾看到\"_\"会被作为一个函数来使用。这种情况下，它通常用于实现国际化和本地化字符串之间翻译查找的函数名称，这似乎源自并遵循相应的C约定。例如，在Django文档“转换”章节中，你将能看到如下代码：\n",
    "``` python\n",
    "from django.utils.translation import ugettext as _ \n",
    "from django.http import HttpResponse \n",
    "def my_view(request): \n",
    "    output = _(\"Welcome to my site.\") \n",
    "    return HttpResponse(output)\n",
    "```\n",
    "可以发现，场景二和场景三中的使用方法可能会相互冲突，所以我们需要避免在使用“_”作为国际化查找转换功能的代码块中同时使用“_”作为临时名称。"
   ]
  },
  {
   "cell_type": "markdown",
   "metadata": {},
   "source": [
    "### 模型训练进度\n",
    "- sys函数库\n",
    "- \\r的作用是让输出不换行，而是永远只输出最新的一行，而不是输出100行出来"
   ]
  },
  {
   "cell_type": "code",
   "execution_count": 2,
   "metadata": {
    "collapsed": false
   },
   "outputs": [
    {
     "name": "stdout",
     "output_type": "stream",
     "text": [
      "File transfer progress :[ 99] percent complete!"
     ]
    }
   ],
   "source": [
    "# coding=utf-8\n",
    "import sys, os\n",
    "import time\n",
    "for i in range( 100 ):\n",
    "    time.sleep( .5 )\n",
    "    sys.stdout.write( \"\\rFile transfer progress :[%3d] percent complete!\" % i )\n",
    "    sys.stdout.flush()"
   ]
  },
  {
   "cell_type": "markdown",
   "metadata": {},
   "source": [
    "### lambda\n",
    "- lambda的主体是一个表达式，而不是一个代码块。仅仅能在lambda表达式中封装有限的逻辑进去。lambda表达式是起到一个函数速写的作用。允许在代码内嵌入一个函数的定义。\n",
    "- 下面是一些lambda使用实例\n"
   ]
  },
  {
   "cell_type": "code",
   "execution_count": null,
   "metadata": {
    "collapsed": false
   },
   "outputs": [],
   "source": [
    "# lambda用作简单的定义函数的方法\n",
    "f=lambda x,y,z:x+y+z\n",
    "f(2,3,4)"
   ]
  },
  {
   "cell_type": "code",
   "execution_count": null,
   "metadata": {
    "collapsed": false
   },
   "outputs": [],
   "source": [
    "# 可以像函数一样给参数设定默认值，当缺省时自动用默认值\n",
    "f=lambda a=\"fee\",b=\"fie\",c=\"foe\":a+b+c\n",
    "f(\"wee\",\"moo\")"
   ]
  },
  {
   "cell_type": "code",
   "execution_count": null,
   "metadata": {
    "collapsed": false
   },
   "outputs": [],
   "source": [
    "# 用lambda来编写跳转表\n",
    "f=[lambda x:x**2,lambda x:x**3,lambda x:x**4]\n",
    "f[1](3)"
   ]
  },
  {
   "cell_type": "code",
   "execution_count": 5,
   "metadata": {
    "collapsed": false
   },
   "outputs": [
    {
     "data": {
      "text/plain": [
       "101"
      ]
     },
     "execution_count": 5,
     "metadata": {},
     "output_type": "execute_result"
    }
   ],
   "source": [
    "# 嵌套的lambda样例一\n",
    "def action(x):\n",
    "    return(lambda y:x+y)\n",
    "act=action(99)\n",
    "act(2)"
   ]
  },
  {
   "cell_type": "code",
   "execution_count": 6,
   "metadata": {
    "collapsed": false
   },
   "outputs": [
    {
     "data": {
      "text/plain": [
       "101"
      ]
     },
     "execution_count": 6,
     "metadata": {},
     "output_type": "execute_result"
    }
   ],
   "source": [
    "# 嵌套的lambda样例二\n",
    "action = lambda x: (lambda y: x+y)\n",
    "act=action(99)\n",
    "act(2)"
   ]
  },
  {
   "cell_type": "code",
   "execution_count": 7,
   "metadata": {
    "collapsed": false
   },
   "outputs": [
    {
     "data": {
      "text/plain": [
       "101"
      ]
     },
     "execution_count": 7,
     "metadata": {},
     "output_type": "execute_result"
    }
   ],
   "source": [
    "# 嵌套的lambda样例三\n",
    "(lambda x: (lambda y: x+y)(99))(2)"
   ]
  },
  {
   "cell_type": "markdown",
   "metadata": {
    "collapsed": true
   },
   "source": [
    "### map()\n",
    "- map(function, sequence[, sequence, ...]) -> iterator\n",
    "- 通过定义可以看到，这个函数的第一个参数是一个函数，剩下的参数是一个或多个序列，返回值是一个迭代器。\n",
    "- function可以理解为是一个一对一或多对一函数，map的作用是以参数序列中的每一个元素调用function函数，返回包含每次function函数返回值的迭代器。\n",
    "- 返回可迭代对象，需要list调用来显示所有结果。\n",
    "- 需要注意的是，不同长度的多个seq是无法执行map函数的，会出现类型错误。"
   ]
  },
  {
   "cell_type": "code",
   "execution_count": 2,
   "metadata": {
    "collapsed": false
   },
   "outputs": [
    {
     "data": {
      "text/plain": [
       "[3, 4, 5]"
      ]
     },
     "execution_count": 2,
     "metadata": {},
     "output_type": "execute_result"
    }
   ],
   "source": [
    "# map用例一，单个function单个sequence\n",
    "list(map(lambda x:x+2,[1,2,3]))"
   ]
  },
  {
   "cell_type": "code",
   "execution_count": 5,
   "metadata": {
    "collapsed": false
   },
   "outputs": [
    {
     "data": {
      "text/plain": [
       "[1.0, 8.0, 81.0]"
      ]
     },
     "execution_count": 5,
     "metadata": {},
     "output_type": "execute_result"
    }
   ],
   "source": [
    "# map用例二，单个function多个sequence\n",
    "import math as mt\n",
    "list(map(mt.pow,[1,2,3],[2,3,4]))"
   ]
  },
  {
   "cell_type": "code",
   "execution_count": 6,
   "metadata": {
    "collapsed": false
   },
   "outputs": [
    {
     "data": {
      "text/plain": [
       "[(2, 3), (6, 5), (12, 7)]"
      ]
     },
     "execution_count": 6,
     "metadata": {},
     "output_type": "execute_result"
    }
   ],
   "source": [
    "# map用例三，多个function多个sequence\n",
    "list(map(lambda x,y:(x*y,x+y),[1,2,3],[2,3,4]))"
   ]
  },
  {
   "cell_type": "markdown",
   "metadata": {},
   "source": [
    "### reduce()\n",
    "- reduce函数会对参数序列中元素进行累积。\n",
    "- functools.reduce(function, iterable[, initializer])  #python3中reduce是在functools模块中\n",
    "- function参数是一个有两个参数的函数，reduce依次从iterable中取一个元素，和上一次调用function的结果做参数再次调用function。\n",
    "- 第一次调用function时，如果提供initial参数，会以iterable中的第一个元素和initial作为参数调用function，否则会以iterable中的前两个元素做参数调用function。"
   ]
  },
  {
   "cell_type": "code",
   "execution_count": 10,
   "metadata": {
    "collapsed": false
   },
   "outputs": [
    {
     "data": {
      "text/plain": [
       "10"
      ]
     },
     "execution_count": 10,
     "metadata": {},
     "output_type": "execute_result"
    }
   ],
   "source": [
    "# reduce用例一，initializer缺省情况\n",
    "import functools as ft\n",
    "ft.reduce(lambda x,y:x+y,[1,2,3,4])"
   ]
  },
  {
   "cell_type": "code",
   "execution_count": 12,
   "metadata": {
    "collapsed": false
   },
   "outputs": [
    {
     "data": {
      "text/plain": [
       "20"
      ]
     },
     "execution_count": 12,
     "metadata": {},
     "output_type": "execute_result"
    }
   ],
   "source": [
    "# reduce用例二，initializer存在情况\n",
    "import functools as ft\n",
    "ft.reduce(lambda x,y:x+y,[1,2,3,4],10)"
   ]
  },
  {
   "cell_type": "code",
   "execution_count": 13,
   "metadata": {
    "collapsed": false
   },
   "outputs": [
    {
     "data": {
      "text/plain": [
       "120"
      ]
     },
     "execution_count": 13,
     "metadata": {},
     "output_type": "execute_result"
    }
   ],
   "source": [
    "# reduce用例三，计算阶乘\n",
    "import functools as ft\n",
    "n=5\n",
    "ft.reduce(lambda x,y:x*y,range(1,n+1))\n",
    "\n"
   ]
  },
  {
   "cell_type": "markdown",
   "metadata": {},
   "source": [
    "### zip()\n",
    "- zip([seql, ...])接受一系列可迭代对象作为参数，将对象中对应的元素打包成一个个tuple（元组），然后返回由这些tuples组成的list（列表）。若传入参数的长度不等，则返回list的长度和参数中长度最短的对象相同。\n"
   ]
  },
  {
   "cell_type": "code",
   "execution_count": 14,
   "metadata": {
    "collapsed": false
   },
   "outputs": [
    {
     "data": {
      "text/plain": [
       "[(1, 2), (2, 3), (3, 4)]"
      ]
     },
     "execution_count": 14,
     "metadata": {},
     "output_type": "execute_result"
    }
   ],
   "source": [
    "# zip用例一，简单用例\n",
    "list(zip([1,2,3],[2,3,4]))"
   ]
  },
  {
   "cell_type": "code",
   "execution_count": 15,
   "metadata": {
    "collapsed": false
   },
   "outputs": [
    {
     "data": {
      "text/plain": [
       "[(1, 1), (2, 2), (3, 3)]"
      ]
     },
     "execution_count": 15,
     "metadata": {},
     "output_type": "execute_result"
    }
   ],
   "source": [
    "# zip用例二，长度不相等的sequences\n",
    "list(zip([1,2,3],[1,2,3,4,5]))"
   ]
  },
  {
   "cell_type": "code",
   "execution_count": 23,
   "metadata": {
    "collapsed": false
   },
   "outputs": [
    {
     "name": "stdout",
     "output_type": "stream",
     "text": [
      "[[1, 2, 3], [4, 5, 6], [7, 8, 9]]\n",
      "[[1, 4, 7], [2, 5, 8], [3, 6, 9]]\n"
     ]
    },
    {
     "data": {
      "text/plain": [
       "[(1, 4, 7), (2, 5, 8), (3, 6, 9)]"
      ]
     },
     "execution_count": 23,
     "metadata": {},
     "output_type": "execute_result"
    }
   ],
   "source": [
    "# zip用例三，二维矩阵转置\n",
    "a=[ [ i for i in range(3*n+1,3*n+4) ] for n in range(3) ]\n",
    "print(a)\n",
    "b=[ [row[col] for row in a] for col in range(len(a[0]))]\n",
    "print(b)\n",
    "\n",
    "# 当函数的参数前面有一个星号*的时候表示这是一个可变的位置参数，两个星号**表示是可变的关键字参数。\n",
    "list(zip(*a))\n"
   ]
  },
  {
   "cell_type": "code",
   "execution_count": 29,
   "metadata": {
    "collapsed": false
   },
   "outputs": [
    {
     "name": "stdout",
     "output_type": "stream",
     "text": [
      "[(1, 2), (2, 3), (3, 4)]\n",
      "[(1, 2, 3), (2, 3, 4)]\n"
     ]
    }
   ],
   "source": [
    "# zip用例四，将合并的序列拆成多个tuple\n",
    "x=[1,2,3]\n",
    "y=[2,3,4]\n",
    "z=list(zip(x,y))\n",
    "print(z)\n",
    "unziped=list(zip(*z))\n",
    "print(unziped)"
   ]
  },
  {
   "cell_type": "code",
   "execution_count": 54,
   "metadata": {
    "collapsed": false
   },
   "outputs": [
    {
     "data": {
      "text/plain": [
       "[(1, 3), (5, 7), (9, 11)]"
      ]
     },
     "execution_count": 54,
     "metadata": {},
     "output_type": "execute_result"
    }
   ],
   "source": [
    "# zip用例五，使用zip合并相邻的列表项\n",
    "a = [1, 3, 5, 7, 9, 11]\n",
    "list(zip(*([iter(a)] * 2)))\n"
   ]
  },
  {
   "cell_type": "code",
   "execution_count": 56,
   "metadata": {
    "collapsed": false
   },
   "outputs": [
    {
     "name": "stdout",
     "output_type": "stream",
     "text": [
      "[(1, 3, 5), (7, 9, 11)]\n",
      "[(1, 3), (5, 7), (9, 11)]\n",
      "[(1,), (3,), (5,), (7,), (9,), (11,)]\n"
     ]
    }
   ],
   "source": [
    "# zip用例六，使用zip合并任意个相邻的列表项\n",
    "a = [1, 3, 5, 7, 9, 11]\n",
    "group_adjacent = lambda a, k: zip(*([iter(a)] * k))\n",
    "x1=list(group_adjacent(a, 3))\n",
    "x2=list(group_adjacent(a, 2))\n",
    "x3=list(group_adjacent(a, 1))\n",
    "print(x1)\n",
    "print(x2)\n",
    "print(x3)"
   ]
  },
  {
   "cell_type": "code",
   "execution_count": 62,
   "metadata": {
    "collapsed": false
   },
   "outputs": [
    {
     "name": "stdout",
     "output_type": "stream",
     "text": [
      "[(1, 3), (5, 7), (9, 11)]\n",
      "[(1, 3, 5), (7, 9, 11)]\n",
      "[(1, 3, 5), (7, 9, 11)]\n",
      "[(1, 3), (5, 7), (9, 11)]\n",
      "[(1,), (3,), (5,), (7,), (9,), (11,)]\n"
     ]
    }
   ],
   "source": [
    "# zip用例七，另一种方法合并相邻列表\n",
    "a = [1, 3, 5, 7, 9, 11]\n",
    "print(list(zip(a[::2], a[1::2])))\n",
    "print(list(zip(a[::3], a[1::3], a[2::3])))\n",
    "group_adjacent = lambda a, k: zip(*(a[i::k] for i in range(k)))\n",
    "print(list(group_adjacent(a, 3)))\n",
    "print(list(group_adjacent(a, 2)))\n",
    "print(list(group_adjacent(a, 1)))\n"
   ]
  },
  {
   "cell_type": "code",
   "execution_count": 63,
   "metadata": {
    "collapsed": false
   },
   "outputs": [
    {
     "name": "stdout",
     "output_type": "stream",
     "text": [
      "[(1, 2, 3), (2, 3, 4), (3, 4, 5), (4, 5, 6)]\n",
      "[(1, 2), (2, 3), (3, 4), (4, 5), (5, 6)]\n",
      "[(1, 2, 3, 4), (2, 3, 4, 5), (3, 4, 5, 6)]\n"
     ]
    }
   ],
   "source": [
    "# zip用例八，使用zip和iterators生成滑动窗口 (n -grams)\n",
    "from itertools import islice\n",
    "def n_grams(a, n):\n",
    "    z=(islice(a,i,None) for i in range(n))\n",
    "    return zip(*z)\n",
    "a=[1,2,3,4,5,6]\n",
    "print(list(n_grams(a,3)))\n",
    "print(list(n_grams(a,2)))\n",
    "print(list(n_grams(a,4)))\n"
   ]
  },
  {
   "cell_type": "code",
   "execution_count": 64,
   "metadata": {
    "collapsed": false
   },
   "outputs": [
    {
     "name": "stdout",
     "output_type": "stream",
     "text": [
      "[('c', 3), ('b', 2), ('d', 4), ('a', 1)]\n",
      "[(3, 'c'), (2, 'b'), (4, 'd'), (1, 'a')]\n",
      "{1: 'a', 2: 'b', 3: 'c', 4: 'd'}\n"
     ]
    }
   ],
   "source": [
    "# zip用例八，使用zip反转字典\n",
    "m = {'a': 1, 'b': 2, 'c': 3, 'd': 4}\n",
    "print(list(m.items()))\n",
    "print(list(zip(m.values(), m.keys())))\n",
    "print(dict(zip(m.values(), m.keys())))"
   ]
  },
  {
   "cell_type": "markdown",
   "metadata": {},
   "source": [
    "### filter\n",
    "- filter函数会对指定序列执行过滤操作。\n",
    "- filter(function or None, sequence) ->iterator\n",
    "- filter函数会对序列参数sequence中的每个元素调用function函数，最后返回的结果包含调用结果为True的元素。\n",
    "- 返回可迭代对象，需要list调用来显示所有结果。"
   ]
  },
  {
   "cell_type": "code",
   "execution_count": 65,
   "metadata": {
    "collapsed": false
   },
   "outputs": [
    {
     "name": "stdout",
     "output_type": "stream",
     "text": [
      "[1, 2, 3, 4]\n",
      "[-5, -4, -3, -2, -1, 1, 2, 3, 4]\n"
     ]
    }
   ],
   "source": [
    "# filter用例\n",
    "print(list(filter((lambda x: x>0),range(-5,5))))\n",
    "print(list(filter(None,range(-5,5))))"
   ]
  },
  {
   "cell_type": "markdown",
   "metadata": {},
   "source": [
    "### enumerate()\n",
    "- enumerate()是python的内置函数\n",
    "- enumerate在字典上是枚举、列举的意思\n",
    "- 对于一个可迭代的（iterable）/可遍历的对象（如列表、字符串），enumerate将其组成一个索引序列，利用它可以同时获得索引和值\n",
    "- enumerate多用于在for循环中得到计数\n",
    "- enumerate()返回的是一个enumerate对象"
   ]
  },
  {
   "cell_type": "code",
   "execution_count": 70,
   "metadata": {
    "collapsed": false
   },
   "outputs": [
    {
     "name": "stdout",
     "output_type": "stream",
     "text": [
      "0 this\n",
      "1 is\n",
      "2 a\n",
      "3 test\n"
     ]
    }
   ],
   "source": [
    "# enumerate用例一\n",
    "list1 = [\"this\", \"is\", \"a\", \"test\"]\n",
    "for index, item in enumerate(list1):\n",
    "    print(index, item)"
   ]
  },
  {
   "cell_type": "code",
   "execution_count": 69,
   "metadata": {
    "collapsed": false
   },
   "outputs": [
    {
     "name": "stdout",
     "output_type": "stream",
     "text": [
      "2 this\n",
      "3 is\n",
      "4 a\n",
      "5 test\n"
     ]
    }
   ],
   "source": [
    "# enumerate用例二\n",
    "list1 = [\"this\", \"is\", \"a\", \"test\"]\n",
    "for index, item in enumerate(list1,2):\n",
    "    print(index, item)"
   ]
  },
  {
   "cell_type": "markdown",
   "metadata": {},
   "source": [
    "### assert()\n",
    "- assert语句用来什么某个条件是真的\n",
    "- 当这个条件不为真时，会引发一个AssertionError"
   ]
  },
  {
   "cell_type": "code",
   "execution_count": 71,
   "metadata": {
    "collapsed": true
   },
   "outputs": [],
   "source": [
    "# assert用例一，当条件为真时\n",
    "mylist=[\"abcde\"]\n",
    "assert(len(mylist)>=1)"
   ]
  },
  {
   "cell_type": "code",
   "execution_count": 72,
   "metadata": {
    "collapsed": false
   },
   "outputs": [
    {
     "name": "stdout",
     "output_type": "stream",
     "text": [
      "[]\n"
     ]
    },
    {
     "ename": "AssertionError",
     "evalue": "",
     "output_type": "error",
     "traceback": [
      "\u001b[0;31m---------------------------------------------------------------------------\u001b[0m",
      "\u001b[0;31mAssertionError\u001b[0m                            Traceback (most recent call last)",
      "\u001b[0;32m<ipython-input-72-12846abbabde>\u001b[0m in \u001b[0;36m<module>\u001b[0;34m()\u001b[0m\n\u001b[1;32m      3\u001b[0m \u001b[0mmylist\u001b[0m\u001b[1;33m.\u001b[0m\u001b[0mpop\u001b[0m\u001b[1;33m(\u001b[0m\u001b[1;33m)\u001b[0m\u001b[1;33m\u001b[0m\u001b[0m\n\u001b[1;32m      4\u001b[0m \u001b[0mprint\u001b[0m\u001b[1;33m(\u001b[0m\u001b[0mmylist\u001b[0m\u001b[1;33m)\u001b[0m\u001b[1;33m\u001b[0m\u001b[0m\n\u001b[0;32m----> 5\u001b[0;31m \u001b[1;32massert\u001b[0m\u001b[1;33m(\u001b[0m\u001b[0mlen\u001b[0m\u001b[1;33m(\u001b[0m\u001b[0mmylist\u001b[0m\u001b[1;33m)\u001b[0m\u001b[1;33m>=\u001b[0m\u001b[1;36m1\u001b[0m\u001b[1;33m)\u001b[0m\u001b[1;33m\u001b[0m\u001b[0m\n\u001b[0m",
      "\u001b[0;31mAssertionError\u001b[0m: "
     ]
    }
   ],
   "source": [
    "# assert用例二，当条件为假时\n",
    "mylist=[\"abcde\"]\n",
    "mylist.pop()\n",
    "print(mylist)\n",
    "assert(len(mylist)>=1)"
   ]
  },
  {
   "cell_type": "code",
   "execution_count": null,
   "metadata": {
    "collapsed": true
   },
   "outputs": [],
   "source": []
  }
 ],
 "metadata": {
  "anaconda-cloud": {},
  "kernelspec": {
   "display_name": "Python [default]",
   "language": "python",
   "name": "python3"
  },
  "language_info": {
   "codemirror_mode": {
    "name": "ipython",
    "version": 3
   },
   "file_extension": ".py",
   "mimetype": "text/x-python",
   "name": "python",
   "nbconvert_exporter": "python",
   "pygments_lexer": "ipython3",
   "version": "3.5.2"
  }
 },
 "nbformat": 4,
 "nbformat_minor": 1
}
