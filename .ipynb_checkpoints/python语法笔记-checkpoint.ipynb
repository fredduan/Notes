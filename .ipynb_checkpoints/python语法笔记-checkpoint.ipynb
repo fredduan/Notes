{
 "cells": [
  {
   "cell_type": "markdown",
   "metadata": {},
   "source": [
    "### 名称前的单下划线\n",
    "``` python\n",
    "def _eat(self):\n",
    "```\n",
    "- 使用名称前的单下划线，用于指定该名称属性为“私有”，为了使其他人（或你自己）使用这些代码时将会知道以“_”开头的名称只供内部使用。正如Python文档中所述：\n",
    "\n",
    "- 划线“_”为前缀的名称（如_spam）应该被视为API中非公开的部分（不管是函数、方法还是数据成员）。此时，应该将它们看作是一种实现细节，在修改它们时无需对外部通知。\n",
    "\n",
    "- 你写了代码“from <模块/包名> import *”，那么以“_”开头的名称都不会被导入，除非模块或包中的“__all__”列表显式地包含了它们。了解更多请查看“Importing * in Python”。\n",
    "\n",
    "### 名称前的双下划线\n",
    "``` python\n",
    "    def __sigmoid(self, x):\n",
    "        return 1 / (1 + exp(-x))\n",
    "```\n",
    "- 在创建一个以\"__\"两个下划线开始的方法时，这意味着这个方法不能被子类重写，它只允许在该类的内部中使用。\n",
    "- 里的功能几乎和Java中的final方法和C++类中标准方法（非虚方法）一样。\n",
    "\n",
    "### 名称前后的双下划线\n",
    "- 用法表示Python中特殊的方法名。其实，这只是一种惯例，对Python系统来说，这将确保不会与用户自定义的名称冲突。通常，你将会覆写这些方法，并在里面实现你所需要的功能，以便Python调用它们。例如，当定义一个类时，你经常会覆写“__init__”方法。\n",
    "\n",
    "- 你也可以编写自己的特殊方法名，但不要这样做。\n",
    "\n",
    "- _xx__”经常是操作符或本地函数调用的magic methods。在上面的例子中，提供了一种重写类的操作符的功能。\n",
    "\n",
    "- 殊的情况下，它只是python调用的hook。例如，__init__()函数是当对象被创建初始化时调用的;__new__()是用来创建实例。"
   ]
  },
  {
   "cell_type": "markdown",
   "metadata": {},
   "source": [
    "### 下划线变量\n",
    "1. **在解释器中**：在这种情况下，\"_\"代表交互式解释器会话中上一条执行的语句的结果。这种用法首先被标准CPython解释器采用，然后其他类型的解释器也先后采用\n",
    "2. **作为一个名称**：这与上面一点稍微有些联系，此时\"_\"作为临时性的名称使用。这样，当其他人阅读你的代码时将会知道，你分配了一个特定的名称，但是并不会在后面再次用到该名称。例如，下面的例子中，你可能对循环计数中的实际值并不感兴趣，此时就可以使用\"_\"。\n",
    "``` python\n",
    "for _ in range(3):\n",
    "    do_something()\n",
    "```\n",
    "3. **国际化**：也许你也曾看到\"_\"会被作为一个函数来使用。这种情况下，它通常用于实现国际化和本地化字符串之间翻译查找的函数名称，这似乎源自并遵循相应的C约定。例如，在Django文档“转换”章节中，你将能看到如下代码：\n",
    "``` python\n",
    "from django.utils.translation import ugettext as _ \n",
    "from django.http import HttpResponse \n",
    "def my_view(request): \n",
    "    output = _(\"Welcome to my site.\") \n",
    "    return HttpResponse(output)\n",
    "```\n",
    "可以发现，场景二和场景三中的使用方法可能会相互冲突，所以我们需要避免在使用“_”作为国际化查找转换功能的代码块中同时使用“_”作为临时名称。"
   ]
  },
  {
   "cell_type": "markdown",
   "metadata": {},
   "source": [
    "### 模型训练进度\n",
    "- sys函数库\n",
    "- \\r的作用是让输出不换行，而是永远只输出最新的一行，而不是输出100行出来"
   ]
  },
  {
   "cell_type": "code",
   "execution_count": 2,
   "metadata": {
    "collapsed": false
   },
   "outputs": [
    {
     "name": "stdout",
     "output_type": "stream",
     "text": [
      "File transfer progress :[ 99] percent complete!"
     ]
    }
   ],
   "source": [
    "# coding=utf-8\n",
    "import sys, os\n",
    "import time\n",
    "for i in range( 100 ):\n",
    "    time.sleep( .5 )\n",
    "    sys.stdout.write( \"\\rFile transfer progress :[%3d] percent complete!\" % i )\n",
    "    sys.stdout.flush()"
   ]
  },
  {
   "cell_type": "markdown",
   "metadata": {},
   "source": [
    "### lambda\n",
    "- lambda的主体是一个表达式，而不是一个代码块。仅仅能在lambda表达式中封装有限的逻辑进去。lambda表达式是起到一个函数速写的作用。允许在代码内嵌入一个函数的定义。\n",
    "- 下面是一些lambda使用实例\n"
   ]
  },
  {
   "cell_type": "code",
   "execution_count": null,
   "metadata": {
    "collapsed": false
   },
   "outputs": [],
   "source": [
    "# lambda用作简单的定义函数的方法\n",
    "f=lambda x,y,z:x+y+z\n",
    "f(2,3,4)"
   ]
  },
  {
   "cell_type": "code",
   "execution_count": null,
   "metadata": {
    "collapsed": false
   },
   "outputs": [],
   "source": [
    "# 可以像函数一样给参数设定默认值，当缺省时自动用默认值\n",
    "f=lambda a=\"fee\",b=\"fie\",c=\"foe\":a+b+c\n",
    "f(\"wee\",\"moo\")"
   ]
  },
  {
   "cell_type": "code",
   "execution_count": null,
   "metadata": {
    "collapsed": false
   },
   "outputs": [],
   "source": [
    "# 用lambda来编写跳转表\n",
    "f=[lambda x:x**2,lambda x:x**3,lambda x:x**4]\n",
    "f[1](3)"
   ]
  },
  {
   "cell_type": "code",
   "execution_count": 5,
   "metadata": {
    "collapsed": false
   },
   "outputs": [
    {
     "data": {
      "text/plain": [
       "101"
      ]
     },
     "execution_count": 5,
     "metadata": {},
     "output_type": "execute_result"
    }
   ],
   "source": [
    "# 嵌套的lambda样例一\n",
    "def action(x):\n",
    "    return(lambda y:x+y)\n",
    "act=action(99)\n",
    "act(2)"
   ]
  },
  {
   "cell_type": "code",
   "execution_count": 6,
   "metadata": {
    "collapsed": false
   },
   "outputs": [
    {
     "data": {
      "text/plain": [
       "101"
      ]
     },
     "execution_count": 6,
     "metadata": {},
     "output_type": "execute_result"
    }
   ],
   "source": [
    "# 嵌套的lambda样例二\n",
    "action = lambda x: (lambda y: x+y)\n",
    "act=action(99)\n",
    "act(2)"
   ]
  },
  {
   "cell_type": "code",
   "execution_count": 7,
   "metadata": {
    "collapsed": false
   },
   "outputs": [
    {
     "data": {
      "text/plain": [
       "101"
      ]
     },
     "execution_count": 7,
     "metadata": {},
     "output_type": "execute_result"
    }
   ],
   "source": [
    "# 嵌套的lambda样例三\n",
    "(lambda x: (lambda y: x+y)(99))(2)"
   ]
  },
  {
   "cell_type": "code",
   "execution_count": null,
   "metadata": {
    "collapsed": true
   },
   "outputs": [],
   "source": []
  }
 ],
 "metadata": {
  "anaconda-cloud": {},
  "kernelspec": {
   "display_name": "Python [default]",
   "language": "python",
   "name": "python3"
  },
  "language_info": {
   "codemirror_mode": {
    "name": "ipython",
    "version": 3
   },
   "file_extension": ".py",
   "mimetype": "text/x-python",
   "name": "python",
   "nbconvert_exporter": "python",
   "pygments_lexer": "ipython3",
   "version": "3.5.2"
  }
 },
 "nbformat": 4,
 "nbformat_minor": 1
}
