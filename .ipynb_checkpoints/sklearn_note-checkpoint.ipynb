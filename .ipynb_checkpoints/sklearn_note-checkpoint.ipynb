{
 "cells": [
  {
   "cell_type": "markdown",
   "metadata": {},
   "source": [
    "### 标签二值化\n",
    "\n",
    "http://scikit-learn.org/stable/modules/generated/sklearn.preprocessing.LabelBinarizer.html#sklearn.preprocessing.LabelBinarizer\n",
    "\n",
    "对于标称型数据来说，preprocessing.LabelBinarizer是一个很好用的工具。比如可以把yes和no转化为0和1，或是把incident和normal转化为0和1。当然，对于两类以上的标签也是适用的。这里举一个简单的例子，说明将标签二值化后用决策树分类，以及其逆过程。二值化的函数是preprocessing.LabelBinarizer.fit_transfrom(),参数可以是一个list对象。二值化逆过程函数为preprocessing.LabelBinarizer.inverse_transform(),参数不能是一个list对象，只能是numpy的array对象。\n",
    "\n",
    "这里需要强调的是，LabelBinarizer有三个方法，fit、transform、fit_transform。这三个方法都只需要一个参数，但是有什么不同？举个例子，如果有三个类x=[A,B,C]，那么直接用fit_transform(x),就可以得到[[1,0,0],[0,1,0],[0,0,1]]。这种情况下，与先fit(x)，再transform(x)所得到的结果是一样的。但是如果现在要求分成4类，但是你x只有ABC三个值，用这种方法只能得到[[1,0,0],[0,1,0],[0,0,1]]，而你想要得到的其实是[[1,0,0,0],[0,1,0,0],[0,0,1,0]]。那么就必须先fit(y)，这个y是一个一行四列的array，比如range(4)或np.zeros((1,4))都可以，只是让fit方法去读y的shape，从而保证要分成4类而不是三类，然后再transform(x)。下面是fit方法的原代码："
   ]
  },
  {
   "cell_type": "markdown",
   "metadata": {},
   "source": [
    "``` python    \n",
    "    def fit(self, y):\n",
    "        \"\"\"Fit label binarizer\n",
    "        Parameters\n",
    "        ----------\n",
    "        y : array of shape [n_samples,] or [n_samples, n_classes]\n",
    "            Target values. The 2-d matrix should only contain 0 and 1,\n",
    "            represents multilabel classification.\n",
    "        Returns\n",
    "        -------\n",
    "        self : returns an instance of self.\n",
    "        \"\"\"\n",
    "        self.y_type_ = type_of_target(y)\n",
    "        if 'multioutput' in self.y_type_:\n",
    "            raise ValueError(\"Multioutput target data is not supported with \"\n",
    "                             \"label binarization\")\n",
    "        if _num_samples(y) == 0:\n",
    "            raise ValueError('y has 0 samples: %r' % y)\n",
    "\n",
    "        self.sparse_input_ = sp.issparse(y)\n",
    "        self.classes_ = unique_labels(y)\n",
    "        return self\n",
    "```"
   ]
  },
  {
   "cell_type": "markdown",
   "metadata": {},
   "source": [
    "### 用例一"
   ]
  },
  {
   "cell_type": "code",
   "execution_count": 2,
   "metadata": {
    "collapsed": false
   },
   "outputs": [
    {
     "name": "stdout",
     "output_type": "stream",
     "text": [
      "<class 'numpy.ndarray'>\n",
      "dummY is  [[1]\n",
      " [0]\n",
      " [0]\n",
      " [1]]\n",
      "['yes']\n",
      "['yes' 'no']\n"
     ]
    }
   ],
   "source": [
    "# -*- coding: UTF-8 -*-\n",
    "from sklearn import preprocessing\n",
    "from sklearn import tree\n",
    "import numpy as np\n",
    "\n",
    "# help(preprocessing.LabelBinarizer)#取消注释可以查看详细用法\n",
    "\n",
    "# 特征矩阵\n",
    "featureList=[[1,0],[1,1],[0,0],[0,1]]\n",
    "# 标签矩阵\n",
    "labelList=['yes', 'no', 'no', 'yes']\n",
    "# 将标签矩阵二值化\n",
    "lb = preprocessing.LabelBinarizer()\n",
    "dummY=lb.fit_transform(labelList)\n",
    "print(type(dummY))\n",
    "print(\"dummY is \",dummY)\n",
    "# 模型建立和训练\n",
    "clf = tree.DecisionTreeClassifier()\n",
    "clf = clf.fit(featureList, dummY)\n",
    "p=clf.predict([[0,1]])\n",
    "# print(p)#取消注释可以查看p的值\n",
    "\n",
    "# 逆过程\n",
    "yesORno=lb.inverse_transform(p)\n",
    "print(yesORno)\n",
    "a=np.array([[1],[0]])\n",
    "print(lb.inverse_transform(a))"
   ]
  },
  {
   "cell_type": "markdown",
   "metadata": {},
   "source": [
    "### 数据分裂成训练集和测试集\n",
    "train_test_split是交叉验证中常用的函数，功能是从样本中随机的按比例选取train_data和test_data，形式为：\n",
    "X_train,X_test, y_train, y_test =cross_validation.train_test_split(train_data,train_target,test_size=0.4, random_state=0)\n",
    "- test_size：测试集大小占比，如果是整数的话就是样本的数量\n",
    "- random_state：是随机数的种子。"
   ]
  },
  {
   "cell_type": "code",
   "execution_count": 1,
   "metadata": {
    "collapsed": false
   },
   "outputs": [
    {
     "name": "stdout",
     "output_type": "stream",
     "text": [
      "[[0 1]\n",
      " [2 3]\n",
      " [4 5]\n",
      " [6 7]\n",
      " [8 9]]\n",
      "[0, 1, 2, 3, 4]\n",
      "[[2 3]\n",
      " [6 7]\n",
      " [8 9]]\n",
      "[1, 3, 4]\n",
      "[[4 5]\n",
      " [0 1]]\n",
      "[2, 0]\n"
     ]
    }
   ],
   "source": [
    "import numpy as np  \n",
    "from sklearn.model_selection import train_test_split  \n",
    "  \n",
    "X=np.array([[0,1],[2,3],[4,5],[6,7],[8,9]])  \n",
    "y=[0,1,2,3,4]  \n",
    "print(X)  \n",
    "print(y)  \n",
    "X_train, X_test, y_train, y_test = train_test_split(X, y, test_size=0.33, random_state=0)  \n",
    "print(X_train)  \n",
    "print(y_train)  \n",
    "print(X_test)  \n",
    "print(y_test)  "
   ]
  },
  {
   "cell_type": "code",
   "execution_count": null,
   "metadata": {
    "collapsed": true
   },
   "outputs": [],
   "source": []
  }
 ],
 "metadata": {
  "anaconda-cloud": {},
  "kernelspec": {
   "display_name": "Python [default]",
   "language": "python",
   "name": "python3"
  },
  "language_info": {
   "codemirror_mode": {
    "name": "ipython",
    "version": 3
   },
   "file_extension": ".py",
   "mimetype": "text/x-python",
   "name": "python",
   "nbconvert_exporter": "python",
   "pygments_lexer": "ipython3",
   "version": "3.5.2"
  }
 },
 "nbformat": 4,
 "nbformat_minor": 1
}
